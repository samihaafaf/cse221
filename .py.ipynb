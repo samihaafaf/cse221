{
 "cells": [
  {
   "cell_type": "code",
   "execution_count": null,
   "metadata": {},
   "outputs": [],
   "source": [
    "#4\n",
    "mmatA = open('inputA','r')\n",
    "mmatB = open('inputB','r')\n",
    "amr = open('multi','w')\n",
    "n = int(mmatA.readline())\n",
    "c = []    #initializing matricx C\n",
    "for a in range(n):   #row of C\n",
    "    st = []\n",
    "    for b in range(n):    #colomns of C\n",
    "        st.append(0)\n",
    "    c.append(st)\n",
    "matA = []\n",
    "matB = []\n",
    "for a in range(n):  #taking inout for matrix A\n",
    "    stA = []\n",
    "    stB = []\n",
    "    for b in range(n):\n",
    "        x = mmatA.readline()\n",
    "        stA.append(x)\n",
    "        x = mmatB.readline()\n",
    "        stB.append(x)\n",
    "    matA.append(stA)\n",
    "    matB.append(stB)\n",
    "for i in range(n):\n",
    "    for j in range(n):\n",
    "        for k in range(n):\n",
    "            c[i][j]+=int(matA[i][k])*int(matB[k][j])\n",
    "for i in range(n):\n",
    "    for j in range(n):\n",
    "        d = str(c[i][j])\n",
    "        amr.write(d+',')\n",
    "    amr.write('\\n')\n",
    "mmatA.close()\n",
    "mmatB.close()\n",
    "amr.close()\n",
    "\n",
    "#print(mat)\n",
    "#print(matA)\n",
    "#print(matB)\n",
    "#print(c)\n",
    "        "
   ]
  }
 ],
 "metadata": {
  "kernelspec": {
   "display_name": "Python 3",
   "language": "python",
   "name": "python3"
  },
  "language_info": {
   "codemirror_mode": {
    "name": "ipython",
    "version": 3
   },
   "file_extension": ".py",
   "mimetype": "text/x-python",
   "name": "python",
   "nbconvert_exporter": "python",
   "pygments_lexer": "ipython3",
   "version": "3.7.3"
  }
 },
 "nbformat": 4,
 "nbformat_minor": 2
}
