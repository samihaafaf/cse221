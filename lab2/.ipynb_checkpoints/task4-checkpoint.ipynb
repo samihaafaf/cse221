{
 "cells": [
  {
   "cell_type": "code",
   "execution_count": 3,
   "metadata": {},
   "outputs": [],
   "source": [
    "#task4 \n",
    "given = open('input4.txt','r')\n",
    "received = open('output4.txt','w')\n",
    "n = int(given.readline())\n",
    "array = given.readline().split()\n",
    "for a in range(n):\n",
    "    array[a] = int(array[a])\n",
    "def merge(ar1,ar2):\n",
    "    i,j,k = 0,0,0\n",
    "    aux = []\n",
    "    while (i<len(ar1)) and (j<len(ar2)):\n",
    "        if ar1[i]<ar2[j]:\n",
    "            aux.append(ar1[i])\n",
    "            #my[k] = ar1[i]\n",
    "            i = i+1\n",
    "        else:\n",
    "            aux.append(ar2[j])\n",
    "            #my[k] = ar2[j]\n",
    "            j = j+1\n",
    "        k = k+1\n",
    "    while i<len(ar1):\n",
    "        aux.append(ar1[i])\n",
    "        #my[k] = ar1[i]\n",
    "        i = i+1\n",
    "    while j<len(ar2):\n",
    "        #my[k] = ar2[j]\n",
    "        aux.append(ar2[j])\n",
    "        j = j+1\n",
    "    #print('aux is',aux)\n",
    "    return aux\n",
    "def mergesort(my):\n",
    "    if len(my)==1:\n",
    "        return my\n",
    "    else:\n",
    "        mid = len(my)//2\n",
    "        ar1 = my[:mid]\n",
    "        ar2 = my[mid:]\n",
    "        a = mergesort(ar1)\n",
    "        #print('a is ',a)\n",
    "        b = mergesort(ar2)\n",
    "        #print('b is',b)\n",
    "        return merge(a,b)\n",
    "st = ''\n",
    "sorted_ar = mergesort(array)\n",
    "for a in range(n):\n",
    "    st = st+' '+str(sorted_ar[a])\n",
    "received.write(st)\n",
    "given.close()\n",
    "received.close()\n",
    "#print(mergesort(myAr))\n",
    "#print(myAr)"
   ]
  },
  {
   "cell_type": "code",
   "execution_count": null,
   "metadata": {},
   "outputs": [],
   "source": []
  }
 ],
 "metadata": {
  "kernelspec": {
   "display_name": "Python 3",
   "language": "python",
   "name": "python3"
  },
  "language_info": {
   "codemirror_mode": {
    "name": "ipython",
    "version": 3
   },
   "file_extension": ".py",
   "mimetype": "text/x-python",
   "name": "python",
   "nbconvert_exporter": "python",
   "pygments_lexer": "ipython3",
   "version": "3.7.3"
  }
 },
 "nbformat": 4,
 "nbformat_minor": 2
}
