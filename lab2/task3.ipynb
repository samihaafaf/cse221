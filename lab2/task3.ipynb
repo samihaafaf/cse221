{
 "cells": [
  {
   "cell_type": "code",
   "execution_count": 2,
   "metadata": {},
   "outputs": [],
   "source": [
    "#no3\n",
    "given = open('input3.txt','r')\n",
    "received = open('output3.txt','w')\n",
    "n = int(given.readline())\n",
    "iD = given.readline().split()\n",
    "mark = given.readline().split()\n",
    "for a in range(n):\n",
    "    mark[a] = int(mark[a])\n",
    "def insert(iD,mark):\n",
    "    for i in range(len(mark)-1):\n",
    "        temp = mark[i+1]\n",
    "        temp2 = iD[i+1]\n",
    "        for j in range(i,-2,-1):\n",
    "            if mark[j]>=temp:\n",
    "                mark[j+1] = mark[j]\n",
    "                iD[j+1] =iD[j]\n",
    "            else:\n",
    "                break\n",
    "        mark[j+1] = temp\n",
    "        iD[j+1] = temp2\n",
    "        #print(mark)\n",
    "    iD = iD[::-1]\n",
    "    return iD\n",
    "st = ''\n",
    "final = insert(iD,mark)\n",
    "for a in range(n):\n",
    "    st = st+' '+str(final[a])\n",
    "received.write(st)\n",
    "given.close()\n",
    "received.close()\n",
    "\n",
    "#print(insert(myid,mymarks))"
   ]
  }
 ],
 "metadata": {
  "kernelspec": {
   "display_name": "Python 3",
   "language": "python",
   "name": "python3"
  },
  "language_info": {
   "codemirror_mode": {
    "name": "ipython",
    "version": 3
   },
   "file_extension": ".py",
   "mimetype": "text/x-python",
   "name": "python",
   "nbconvert_exporter": "python",
   "pygments_lexer": "ipython3",
   "version": "3.7.3"
  }
 },
 "nbformat": 4,
 "nbformat_minor": 2
}
