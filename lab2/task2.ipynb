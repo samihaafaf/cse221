{
 "cells": [
  {
   "cell_type": "code",
   "execution_count": 5,
   "metadata": {},
   "outputs": [],
   "source": [
    "#task2\n",
    "given = open('input2.txt','r')\n",
    "received = open('output2.txt','w')\n",
    "ar1 = given.readline().split()\n",
    "price = given.readline().split()\n",
    "#myar = [10,2,3,4,1,100,1]\n",
    "for a in range(len(ar1)):\n",
    "    ar1[a] = int(ar1[a])\n",
    "for a in range(ar1[0]):\n",
    "    price[a] = int(price[a])\n",
    "def selsort(ar,m):\n",
    "    counter = 0\n",
    "    for a in range(len(ar)):\n",
    "        if counter==m:\n",
    "            break\n",
    "        else:\n",
    "            minval = ar[a]\n",
    "            minindex = a\n",
    "            for b in range(a,len(ar)):\n",
    "                if ar[b]<minval:\n",
    "                    minval = ar[b]\n",
    "                    minindex = b\n",
    "            temp = ar[a]\n",
    "            ar[a] = minval\n",
    "            counter+=1\n",
    "            ar[minindex] = temp\n",
    "    return ar[:m]\n",
    "price = selsort(price,ar1[1])\n",
    "st = ''\n",
    "for a in range(len(price)):\n",
    "    st = st+' '+str(price[a])\n",
    "received.write(st)\n",
    "given.close()\n",
    "received.close()\n",
    "\n",
    "#print(selsort(myar,4))\n"
   ]
  },
  {
   "cell_type": "code",
   "execution_count": null,
   "metadata": {},
   "outputs": [],
   "source": []
  }
 ],
 "metadata": {
  "kernelspec": {
   "display_name": "Python 3",
   "language": "python",
   "name": "python3"
  },
  "language_info": {
   "codemirror_mode": {
    "name": "ipython",
    "version": 3
   },
   "file_extension": ".py",
   "mimetype": "text/x-python",
   "name": "python",
   "nbconvert_exporter": "python",
   "pygments_lexer": "ipython3",
   "version": "3.7.3"
  }
 },
 "nbformat": 4,
 "nbformat_minor": 2
}
