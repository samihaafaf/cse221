{
 "cells": [
  {
   "cell_type": "code",
   "execution_count": 48,
   "metadata": {},
   "outputs": [],
   "source": [
    "#task1\n",
    "given = open('input1.txt','r')\n",
    "received = open('output1.txt','w')\n",
    "n = int(given.readline())\n",
    "arr = given.readline().split()\n",
    "#print(arr)\n",
    "for a in range(n):\n",
    "    arr[a] = int(arr[a])\n",
    "#print(arr)\n",
    "def bubble(ar):\n",
    "    check = 0\n",
    "    for a in range(len(ar)-1,1,-1):       #checks if the array is already sorted or not, this checking process takes\n",
    "        if (ar[a])<(ar[a-1]):                  # n times comparing so the complexity is theta of n. A sorted array gives                               #best case for bubble sort.\n",
    "            check = 1\n",
    "            break\n",
    "    if check==0:                       #if array is sorted just return the array without any further sorting.\n",
    "        return ar\n",
    "    else:\n",
    "        for a in range(1,len(ar)):\n",
    "            for b in range(a,0,-1):\n",
    "                if (ar[b])<(ar[b-1]):\n",
    "                    temp = ar[b]\n",
    "                    ar[b] = ar[b-1]\n",
    "                    ar[b-1] = temp\n",
    "                #print('ar is',ar,'b is ',b,'a is',a)\n",
    "    return ar\n",
    "st = ''\n",
    "#print(bubble(arr))\n",
    "arr = bubble(arr)\n",
    "for a in range(len(arr)):\n",
    "    st = st+' '+str(arr[a])\n",
    "received.write(st)\n",
    "given.close()\n",
    "received.close()\n",
    "\n",
    "#The best case of a bubble algorithm is when it is already sorted.The first loop inside my bubble sort checks whether an array is already sorted or not, if it is sorted then with only after n operations the function returns the array without any further operations. So the time complexity for best case is theta of n.\n",
    "                "
   ]
  }
 ],
 "metadata": {
  "kernelspec": {
   "display_name": "Python 3",
   "language": "python",
   "name": "python3"
  },
  "language_info": {
   "codemirror_mode": {
    "name": "ipython",
    "version": 3
   },
   "file_extension": ".py",
   "mimetype": "text/x-python",
   "name": "python",
   "nbconvert_exporter": "python",
   "pygments_lexer": "ipython3",
   "version": "3.7.3"
  }
 },
 "nbformat": 4,
 "nbformat_minor": 2
}
