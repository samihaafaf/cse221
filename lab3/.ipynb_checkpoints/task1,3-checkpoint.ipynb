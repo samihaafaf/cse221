{
 "cells": [
  {
   "cell_type": "code",
   "execution_count": 2,
   "metadata": {},
   "outputs": [],
   "source": [
    "#graph created and DFS implemented\n",
    "given = open('lab3input.txt','r')\n",
    "received = open('lab3output2.txt','w')\n",
    "endnode  = int(given.readline())\n",
    "dfs_graph = {}\n",
    "for a in range(endnode):\n",
    "    lis = given.readline().split()\n",
    "    val = lis[1::]\n",
    "    dfs_graph[lis[0]] = val\n",
    "\n",
    "visited = {}\n",
    "for vertex in dfs_graph.keys():\n",
    "    visited[vertex] = False\n",
    "\n",
    "dfs_seq = []\n",
    "def dfsvisit(graph,node):\n",
    "    visited[node] = True\n",
    "    dfs_seq.append(node)\n",
    "    for y in dfs_graph[node]:\n",
    "        #print('x is',x,': y is',y)\n",
    "        if visited[y]==False:  #not visited\n",
    "            dfsvisit(graph,y)\n",
    "def dfs(graph,end):\n",
    "    f_seq = 'Places: '\n",
    "    for node in dfs_graph.keys():\n",
    "        \n",
    "        if visited[node]== False:\n",
    "            dfsvisit(graph,node)\n",
    "    for a in dfs_seq:\n",
    "        if a==end:\n",
    "            f_seq = f_seq + ' '+a\n",
    "            break\n",
    "        else:\n",
    "            f_seq = f_seq + ' '+a\n",
    "    return f_seq\n",
    "    \n",
    "\n",
    "    \n",
    "    #return dfs_seq\n",
    "    #print('\\n')\n",
    "#print(bfs_seq)\n",
    "\n",
    "        \n",
    "dfsvisit(dfs_graph,'1')  \n",
    "st = dfs(dfs_graph,'12')\n",
    "received.write(st)    \n",
    "given.close()    \n",
    "received.close()"
   ]
  },
  {
   "cell_type": "code",
   "execution_count": null,
   "metadata": {},
   "outputs": [],
   "source": []
  }
 ],
 "metadata": {
  "kernelspec": {
   "display_name": "Python 3",
   "language": "python",
   "name": "python3"
  },
  "language_info": {
   "codemirror_mode": {
    "name": "ipython",
    "version": 3
   },
   "file_extension": ".py",
   "mimetype": "text/x-python",
   "name": "python",
   "nbconvert_exporter": "python",
   "pygments_lexer": "ipython3",
   "version": "3.7.3"
  }
 },
 "nbformat": 4,
 "nbformat_minor": 2
}
