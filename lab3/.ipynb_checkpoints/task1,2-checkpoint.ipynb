{
 "cells": [
  {
   "cell_type": "code",
   "execution_count": 1,
   "metadata": {},
   "outputs": [],
   "source": [
    "#graph created and BFS implemented\n",
    "from queue import Queue\n",
    "my_queue = Queue()\n",
    "given = open('lab3input.txt','r')\n",
    "received = open('lab3output1.txt','w')\n",
    "endnode  = int(given.readline())\n",
    "bfs_graph = {}\n",
    "for a in range(endnode):               #creating the graph\n",
    "    lis = given.readline().split()\n",
    "    val = lis[1::]\n",
    "    bfs_graph[lis[0]] = val         #adding values to the keys in graph \n",
    "#print(bfs_dict)\n",
    "visited = {}\n",
    "for vertex in bfs_graph.keys():    #vertex are the keys\n",
    "    visited[vertex] = False        #key values in visited dict made false\n",
    "\n",
    "bfs_seq = []\n",
    "def bfs(visited,graph,start,end):\n",
    "    visited[start] = True\n",
    "    my_queue.put(start)\n",
    "    while not my_queue.empty():\n",
    "        x = my_queue.get()\n",
    "        #print('print x',x)\n",
    "        #print(type(x))\n",
    "        bfs_seq.append(x)\n",
    "        if x==end:\n",
    "            \n",
    "            break\n",
    "        else:\n",
    "            for y in bfs_graph[x]:  #y is the values for the key=x\n",
    "                #print('x is',x,': y is',y)\n",
    "                if visited[y]==False:  #not visited\n",
    "                    visited[y] = True\n",
    "                    my_queue.put(y)\n",
    "            #print('\\n')\n",
    "    #print(bfs_seq)\n",
    "\n",
    "        \n",
    "bfs(visited,bfs_graph,'1','12')   \n",
    "st = 'Places:'\n",
    "for a in bfs_seq:\n",
    "    st = st + ' '+a\n",
    "received.write(st)    \n",
    "given.close()    \n",
    "received.close()"
   ]
  },
  {
   "cell_type": "code",
   "execution_count": null,
   "metadata": {},
   "outputs": [],
   "source": []
  }
 ],
 "metadata": {
  "kernelspec": {
   "display_name": "Python 3",
   "language": "python",
   "name": "python3"
  },
  "language_info": {
   "codemirror_mode": {
    "name": "ipython",
    "version": 3
   },
   "file_extension": ".py",
   "mimetype": "text/x-python",
   "name": "python",
   "nbconvert_exporter": "python",
   "pygments_lexer": "ipython3",
   "version": "3.7.3"
  }
 },
 "nbformat": 4,
 "nbformat_minor": 2
}
