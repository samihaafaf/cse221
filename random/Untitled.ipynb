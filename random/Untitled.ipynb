{
 "cells": [
  {
   "cell_type": "code",
   "execution_count": null,
   "metadata": {},
   "outputs": [],
   "source": [
    "row = int(input('row num'))\n",
    "col = int(input('col input'))\n",
    "mat = []\n",
    "for a in range(row):\n",
    "    st = []\n",
    "    for b in range(col):\n",
    "        st.append(int(input()))\n",
    "    mat.append(st)\n",
    "for i in range(row):\n",
    "    for j in range(col):\n",
    "        print(mat[i][j],end = ' ')\n",
    "    print()\n",
    "    \n",
    "#print(mat)\n",
    "        "
   ]
  },
  {
   "cell_type": "code",
   "execution_count": 6,
   "metadata": {},
   "outputs": [
    {
     "name": "stdout",
     "output_type": "stream",
     "text": [
      " num2\n",
      "give rowise A1\n",
      "give rowwise b5\n",
      "give rowise A2\n",
      "give rowwise b6\n",
      "give rowise A3\n",
      "give rowwise b4\n",
      "give rowise A7\n",
      "give rowwise b8\n",
      "13 22 \n",
      "43 74 \n",
      "[[13, 22], [43, 74]]\n",
      "[[1, 2], [3, 7]]\n",
      "[[5, 6], [4, 8]]\n",
      "[[13, 22], [43, 74]]\n"
     ]
    }
   ],
   "source": [
    "\n",
    "n = int(input(' num'))\n",
    "c = []    #initializing matricx C\n",
    "for a in range(n):   #row of C\n",
    "    st = []\n",
    "    for b in range(n):    #colomns of C\n",
    "        st.append(0)\n",
    "    c.append(st)\n",
    "matA = []\n",
    "matB = []\n",
    "for a in range(n):  #taking inout for matrix A\n",
    "    stA = []\n",
    "    stB = []\n",
    "    for b in range(n):\n",
    "        stA.append(int(input('give rowise A')))\n",
    "        stB.append(int(input('give rowwise b')))\n",
    "    matA.append(stA)\n",
    "    matB.append(stB)\n",
    "for i in range(n):\n",
    "    for j in range(n):\n",
    "        for k in range(n):\n",
    "            c[i][j]+=matA[i][k]*matB[k][j]\n",
    "for i in range(n):\n",
    "    for j in range(n):\n",
    "        print(c[i][j],end = ' ')\n",
    "    print()\n",
    "        \n",
    "\n",
    "#print(mat)\n",
    "#print(matA)\n",
    "#print(matB)\n",
    "#print(c)\n",
    "        "
   ]
  },
  {
   "cell_type": "code",
   "execution_count": 17,
   "metadata": {},
   "outputs": [],
   "source": [
    "mmatA = open('inputA','r')\n",
    "mmatB = open('inputB','r')\n",
    "amr = open('multi','w')\n",
    "n = int(mmatA.readline())\n",
    "c = []    #initializing matricx C\n",
    "for a in range(n):   #row of C\n",
    "    st = []\n",
    "    for b in range(n):    #colomns of C\n",
    "        st.append(0)\n",
    "    c.append(st)\n",
    "matA = []\n",
    "matB = []\n",
    "for a in range(n):  #taking inout for matrix A\n",
    "    stA = []\n",
    "    stB = []\n",
    "    for b in range(n):\n",
    "        x = mmatA.readline()\n",
    "        stA.append(x)\n",
    "        x = mmatB.readline()\n",
    "        stB.append(x)\n",
    "    matA.append(stA)\n",
    "    matB.append(stB)\n",
    "for i in range(n):\n",
    "    for j in range(n):\n",
    "        for k in range(n):\n",
    "            c[i][j]+=int(matA[i][k])*int(matB[k][j])\n",
    "for i in range(n):\n",
    "    for j in range(n):\n",
    "        d = str(c[i][j])\n",
    "        amr.write(d+',')\n",
    "    amr.write('\\n')\n",
    "mmatA.close()\n",
    "mmatB.close()\n",
    "amr.close()\n",
    "\n",
    "#print(mat)\n",
    "#print(matA)\n",
    "#print(matB)\n",
    "#print(c)\n",
    "        "
   ]
  },
  {
   "cell_type": "markdown",
   "metadata": {},
   "source": [
    "### "
   ]
  }
 ],
 "metadata": {
  "kernelspec": {
   "display_name": "Python 3",
   "language": "python",
   "name": "python3"
  },
  "language_info": {
   "codemirror_mode": {
    "name": "ipython",
    "version": 3
   },
   "file_extension": ".py",
   "mimetype": "text/x-python",
   "name": "python",
   "nbconvert_exporter": "python",
   "pygments_lexer": "ipython3",
   "version": "3.7.3"
  }
 },
 "nbformat": 4,
 "nbformat_minor": 2
}
