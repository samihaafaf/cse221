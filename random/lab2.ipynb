{
 "cells": [
  {
   "cell_type": "code",
   "execution_count": 1,
   "metadata": {},
   "outputs": [
    {
     "name": "stdout",
     "output_type": "stream",
     "text": [
      "[3, 2, 1, 4, 5]\n"
     ]
    }
   ],
   "source": [
    "#task1\n",
    "arr = [3,2,1,4,5]\n",
    "def bubble(ar):\n",
    "    check = 0\n",
    "    for a in range(len(ar)-1,2,-1):       #checks if the array is already sorted or not, this checking process takes\n",
    "        if ar[a]<ar[a-1]:                  # n times comparing so the complexity is theta of n. A sorted array gives\n",
    "                                           #best case for bubble sort.\n",
    "            check = 1\n",
    "            break\n",
    "    if check==0:                       #if array is sorted just return the array without any further sorting.\n",
    "        return ar\n",
    "    else:\n",
    "        for a in range(1,len(ar)):\n",
    "            for b in range(a,0,-1):\n",
    "                if ar[b]<ar[b-1]:\n",
    "                    temp = ar[b]\n",
    "                    ar[b] = ar[b-1]\n",
    "                    ar[b-1] = temp\n",
    "    return ar\n",
    "print(bubble(arr))\n",
    "\n",
    "                "
   ]
  },
  {
   "cell_type": "code",
   "execution_count": 9,
   "metadata": {},
   "outputs": [
    {
     "name": "stdout",
     "output_type": "stream",
     "text": [
      "a is 5\n",
      "a is 4\n",
      "a is 3\n",
      "a is 2\n",
      "in here\n",
      "before break in\n",
      "[5, 10, 15, 20, 25, 30]\n"
     ]
    }
   ],
   "source": [
    "#task1\n",
    "arr = [10,20,5,15,25,30]\n",
    "def bubble(ar):\n",
    "    check = 0\n",
    "    for a in range(len(ar)-1,1,-1):\n",
    "        print('a is',a)\n",
    "        if ar[a]<ar[a-1]:  \n",
    "            print('in here')\n",
    "            check = 1\n",
    "            print('before break in')\n",
    "            break\n",
    "    if check==0:\n",
    "        print('imin')\n",
    "        return ar\n",
    "    else:\n",
    "        for a in range(1,len(ar)):\n",
    "            for b in range(a,0,-1):\n",
    "                if ar[b]<ar[b-1]:\n",
    "                    temp = ar[b]\n",
    "                    ar[b] = ar[b-1]\n",
    "                    ar[b-1] = temp\n",
    "    return ar\n",
    "print(bubble(arr))\n",
    "\n",
    "                "
   ]
  },
  {
   "cell_type": "code",
   "execution_count": null,
   "metadata": {},
   "outputs": [],
   "source": [
    "#task2\n",
    "myar = [10,2,3,4,1,100,1]\n",
    "def selsort(ar,m):\n",
    "    counter = 0\n",
    "    for a in range(len(ar)):\n",
    "        if counter==m:\n",
    "            break\n",
    "        else:\n",
    "            minval = ar[a]\n",
    "            minindex = a\n",
    "            for b in range(a,len(ar)):\n",
    "                if ar[b]<minval:\n",
    "                    minval = ar[b]\n",
    "                    minindex = b\n",
    "            temp = ar[a]\n",
    "            ar[a] = minval\n",
    "            counter+=1\n",
    "            ar[minindex] = temp\n",
    "    return ar[:m]\n",
    "print(selsort(myar,4))\n"
   ]
  },
  {
   "cell_type": "code",
   "execution_count": 2,
   "metadata": {},
   "outputs": [
    {
     "name": "stdout",
     "output_type": "stream",
     "text": [
      "aux is [3, 20]\n",
      "aux is [3, 10, 20]\n",
      "aux is [5, 6]\n",
      "aux is [5, 6, 40]\n",
      "aux is [3, 5, 6, 10, 20, 40]\n",
      "[3, 5, 6, 10, 20, 40]\n"
     ]
    }
   ],
   "source": [
    "#task4  now corrected\n",
    "myAr = [10,20,3,40,5,6]\n",
    "\n",
    "#ar1.sort()\n",
    "#ar2 = [32,1,23,34,9,39]\n",
    "#ar2.sort()\n",
    "def merge(ar1,ar2):\n",
    "    i,j,k = 0,0,0\n",
    "    aux = []\n",
    "    while (i<len(ar1)) and (j<len(ar2)):\n",
    "        if ar1[i]<ar2[j]:\n",
    "            aux.append(ar1[i])\n",
    "            #my[k] = ar1[i]\n",
    "            i = i+1\n",
    "        else:\n",
    "            aux.append(ar2[j])\n",
    "            #my[k] = ar2[j]\n",
    "            j = j+1\n",
    "        k = k+1\n",
    "    while i<len(ar1):\n",
    "        aux.append(ar1[i])\n",
    "        #my[k] = ar1[i]\n",
    "        i = i+1\n",
    "    while j<len(ar2):\n",
    "        #my[k] = ar2[j]\n",
    "        aux.append(ar2[j])\n",
    "        j = j+1\n",
    "    print('aux is',aux)\n",
    "    return aux\n",
    "def mergesort(my):\n",
    "    if len(my)==1:\n",
    "        return my\n",
    "    else:\n",
    "        mid = len(my)//2\n",
    "        ar1 = my[:mid]\n",
    "        ar2 = my[mid:]\n",
    "        a = mergesort(ar1)\n",
    "        #print('a is ',a)\n",
    "        b = mergesort(ar2)\n",
    "        #print('b is',b)\n",
    "        return merge(a,b)\n",
    "\n",
    "print(mergesort(myAr))\n",
    "#print(myAr)"
   ]
  },
  {
   "cell_type": "code",
   "execution_count": null,
   "metadata": {},
   "outputs": [],
   "source": [
    "#no3\n",
    "#myid = [1,2,3,4,5,6]\n",
    "myid = [11,45,34,22,12]\n",
    "mymarks = [40,50,20,10,10]\n",
    "#mymarks = [50,60,80,20,10,30]\n",
    "def insert(iD,mark):\n",
    "    for i in range(len(mark)-1):\n",
    "        temp = mark[i+1]\n",
    "        temp2 = iD[i+1]\n",
    "        for j in range(i,-2,-1):\n",
    "            if mark[j]>=temp:\n",
    "                mark[j+1] = mark[j]\n",
    "                iD[j+1] =iD[j]\n",
    "            else:\n",
    "                break\n",
    "        mark[j+1] = temp\n",
    "        iD[j+1] = temp2\n",
    "        #print(mark)\n",
    "    iD = iD[::-1]\n",
    "    return iD\n",
    "print(insert(myid,mymarks))"
   ]
  }
 ],
 "metadata": {
  "kernelspec": {
   "display_name": "Python 3",
   "language": "python",
   "name": "python3"
  },
  "language_info": {
   "codemirror_mode": {
    "name": "ipython",
    "version": 3
   },
   "file_extension": ".py",
   "mimetype": "text/x-python",
   "name": "python",
   "nbconvert_exporter": "python",
   "pygments_lexer": "ipython3",
   "version": "3.7.3"
  }
 },
 "nbformat": 4,
 "nbformat_minor": 2
}
