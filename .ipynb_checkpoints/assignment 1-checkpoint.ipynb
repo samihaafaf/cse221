{
 "cells": [
  {
   "cell_type": "code",
   "execution_count": 3,
   "metadata": {},
   "outputs": [
    {
     "name": "stdout",
     "output_type": "stream",
     "text": [
      "[4, 2, 4, 2, 5]\n"
     ]
    }
   ],
   "source": [
    "#1\n",
    "ar1 = [1,1,2,2,5]\n",
    "ar2 = [3,1,4,1,5]\n",
    "\n",
    "def khujo(ar1,ar2,l = 0,r = len(ar1)-1,a):\n",
    "    if l>r:\n",
    "        return -1\n",
    "    else:\n",
    "        \n",
    "        store = []\n",
    "        key = ar2[a]\n",
    "        #print(key)\n",
    "        if key==ar1[r]:\n",
    "            #print('hi')\n",
    "            store.append(len(ar1))\n",
    "        else:\n",
    "            while l<=r:\n",
    "                mid = (l+r)//2\n",
    "                #print('mid',mid)\n",
    "                if (ar1[mid]<=key) and (ar1[mid+1])>key:\n",
    "                    store.append(mid+1)\n",
    "                    break\n",
    "                elif (ar1[mid]>key) and (ar1[mid-1]<=key):\n",
    "                    store.append(mid)\n",
    "                    break\n",
    "                elif (ar1[mid]<key) and (ar1[mid+1<key]):\n",
    "                    l = mid+1\n",
    "                else:\n",
    "                    r = mid-1\n",
    "        return store\n",
    "print(khujo(ar1,ar2))\n",
    "                \n",
    "        "
   ]
  },
  {
   "cell_type": "code",
   "execution_count": null,
   "metadata": {},
   "outputs": [],
   "source": [
    "#binary search using recursion  (6)\n",
    "ar = [3,2,4,1,5]\n",
    "def sort(ar):\n",
    "    for a in range(1,len(ar)):      #sorting the array first\n",
    "        for b in range(a,0,-1):\n",
    "            if ar[b]<ar[b-1]:\n",
    "                store = ar[b-1]\n",
    "                ar[b-1] = ar[b]\n",
    "                ar[b] = store\n",
    "def binRec(Ar,val,L,R):\n",
    "    if L>R:\n",
    "        return -1\n",
    "    else:\n",
    "        mid = (L+R)//2\n",
    "        if val==Ar[mid]:\n",
    "            return Ar[mid]\n",
    "        elif val>Ar[mid]:\n",
    "            return binRec(Ar,val,mid+1,R)\n",
    "        else:\n",
    "            return binRec(Ar,val,L,mid-1)\n",
    "sort(ar)    \n",
    "print(binRec(ar,2,0,len(ar)-1))       "
   ]
  },
  {
   "cell_type": "code",
   "execution_count": null,
   "metadata": {},
   "outputs": [],
   "source": [
    "#1\n",
    "ar1 = [1,1,2,2,5]\n",
    "ar2 = [3,1,4,1,5]\n",
    "\n",
    "def khujo(ar1,ar2):\n",
    "    store = []\n",
    "    for a in range(len(ar2)):\n",
    "        key = ar2[a]\n",
    "        #print(key)\n",
    "        l = 0\n",
    "        r = len(ar1)-1\n",
    "        if key==ar1[r]:\n",
    "            #print('hi')\n",
    "            store.append(len(ar1))\n",
    "        else:\n",
    "            while l<=r:\n",
    "                mid = (l+r)//2\n",
    "                #print('mid',mid)\n",
    "                if (ar1[mid]<=key) and (ar1[mid+1])>key:\n",
    "                    store.append(mid+1)\n",
    "                    break\n",
    "                elif (ar1[mid]>key) and (ar1[mid-1]<=key):\n",
    "                    store.append(mid)\n",
    "                    break\n",
    "                elif (ar1[mid]<key) and (ar1[mid+1]<key):\n",
    "                    l = mid+1\n",
    "                else:\n",
    "                    r = mid-1\n",
    "    return store\n",
    "print(khujo(ar1,ar2))\n",
    "                \n",
    "        "
   ]
  },
  {
   "cell_type": "code",
   "execution_count": 19,
   "metadata": {},
   "outputs": [
    {
     "name": "stdout",
     "output_type": "stream",
     "text": [
      "5 5\n",
      "give ar11 1 2 2 5\n",
      "give ar23 1 4 1 5\n",
      "[4, 2, 4, 2, 5]\n"
     ]
    }
   ],
   "source": [
    "#1\n",
    "#ar1 = [1,1,2,2,5]\n",
    "#ar2 = [3,1,4,1,5]\n",
    "a1,b1 = input().split(' ')  #length of the arrays\n",
    "ar1 = input('give ar1').split(' ')\n",
    "ar2 = input('give ar2').split(' ')\n",
    "\n",
    "def khujo(ar1,l,r,key):\n",
    "    if l>r:\n",
    "        return -1\n",
    "    #elif key==ar1[r]:\n",
    "        #return len(ar1)\n",
    "    else:\n",
    "        mid = (l+r)//2\n",
    "        #print('mid',mid)\n",
    "        if (ar1[mid]<=key) and (ar1[mid+1])>key:\n",
    "            return mid+1\n",
    "            #break\n",
    "        elif (ar1[mid]>key) and (ar1[mid-1]<=key):\n",
    "            return mid\n",
    "            #break\n",
    "        elif (ar1[mid]<key) and (ar1[mid+1]<key):\n",
    "            return khujo(ar1,mid+1,r,key)\n",
    "        else:\n",
    "            return khujo(ar1,l,mid-1,key)\n",
    "store = []\n",
    "a1 = int(a1)\n",
    "b1 = int(b1)\n",
    "for a in range(b1):\n",
    "    \n",
    "    #global store\n",
    "    key1 = ar2[a]\n",
    "    #print(key1)\n",
    "    if key1==ar1[a1-1]:\n",
    "        store.append(a1)\n",
    "    else:\n",
    "    \n",
    "        x = khujo(ar1,0,a1-1,key = key1)\n",
    "        store.append(x)\n",
    "    \n",
    "        \n",
    "#print(khujo(ar1,0,5,3))\n",
    "print(store)\n",
    "                \n",
    "        "
   ]
  },
  {
   "cell_type": "code",
   "execution_count": 2,
   "metadata": {},
   "outputs": [
    {
     "data": {
      "image/png": "[encoded data removed]",
      "text/plain": [
       "<Figure size 432x288 with 1 Axes>"
      ]
     },
     "metadata": {
      "needs_background": "light"
     },
     "output_type": "display_data"
    }
   ],
   "source": [
    "\n",
    "def fibonacci_1(n):\n",
    "    if n <= 0:\n",
    "        print(\"Invalid input!\")\n",
    "    elif n <= 2:\n",
    "        return n-1\n",
    "    else:\n",
    "        return fibonacci_1(n-1)+fibonacci_1(n-2)\n",
    "    n = int(input(\"Enter a number: \"))\n",
    "    nth_fib = fibonacci_1(n)\n",
    "    print(\"The %d-th fibonacci number is %d\" % (n, nth_fib))\n",
    "def fibonacci_2(n):\n",
    "    fibonacci_array = [0,1]\n",
    "    if n < 0:\n",
    "        print(\"Invalid input!\")\n",
    "    elif n <= 2:\n",
    "        return fibonacci_array[n-1]\n",
    "    else:\n",
    "        for i in range(2,n):\n",
    "            fibonacci_array.append(fibonacci_array[i-1] + fibonacci_array[i-2])\n",
    "        return fibonacci_array[-1]\n",
    "    n = int(input(\"Enter a number: \"))\n",
    "    nth_fib = fibonacci_2(n)\n",
    "    print(\"The %d-th fibonacci number is %d\" % (n, nth_fib))\n",
    "\n",
    "import time\n",
    "import math\n",
    "import matplotlib.pyplot as plt\n",
    "import numpy as np\n",
    "#change the value of n for your own experimentation\n",
    "n = 30\n",
    "x = [i for i in range(n)]\n",
    "y = [0 for i in range(n)]\n",
    "z = [0 for i in range(n)]\n",
    "for i in range(n-1):\n",
    "\n",
    "    start = time.time()\n",
    "    fibonacci_1(x[i+1])\n",
    "    y[i+1]= time.time()-start\n",
    "    start = time.time()\n",
    "    fibonacci_2(x[i+1])\n",
    "    z[i+1]= time.time()-start\n",
    "x_interval = math.ceil(n/10)\n",
    "plt.plot(x, y, 'r')\n",
    "plt.plot(x, z, 'b')\n",
    "plt.xticks(np.arange(min(x), max(x)+1, x_interval))\n",
    "plt.xlabel('n-th position')\n",
    "plt.ylabel('time')\n",
    "plt.title('Comparing Time Complexity!')\n",
    "plt.show()"
   ]
  },
  {
   "cell_type": "code",
   "execution_count": null,
   "metadata": {},
   "outputs": [],
   "source": [
    "import sys\n",
    "sys.stdin = open('input.txt','r')\n",
    "t = 0\n",
    "while t<=4:\n",
    "    n = int(input('enter a num'))\n",
    "    print(n)"
   ]
  },
  {
   "cell_type": "code",
   "execution_count": null,
   "metadata": {},
   "outputs": [],
   "source": [
    "def fibonacci_1(n):\n",
    "    if n <= 0:\n",
    "        print(\"Invalid input!\")\n",
    "    elif n <= 2:\n",
    "        return n-1\n",
    "    else:\n",
    "        return fibonacci_1(n-1)+fibonacci_1(n-2)\n",
    "    n = int(input(\"Enter a number: \"))\n",
    "    nth_fib = fibonacci_1(n)\n",
    "    print(\"The %d-th fibonacci number is %d\" % (n, nth_fib))\n",
    "    \n",
    "import sys\n",
    "sys.stdin = open('input.txt','r')\n",
    "t = 0\n",
    "while t<=4:\n",
    "    t = t+1\n",
    "    n = int(input('enter a num'))\n",
    "    fib = finonacci_1(n)\n",
    "    print(n,fib)"
   ]
  },
  {
   "cell_type": "code",
   "execution_count": null,
   "metadata": {},
   "outputs": [],
   "source": []
  }
 ],
 "metadata": {
  "kernelspec": {
   "display_name": "Python 3",
   "language": "python",
   "name": "python3"
  },
  "language_info": {
   "codemirror_mode": {
    "name": "ipython",
    "version": 3
   },
   "file_extension": ".py",
   "mimetype": "text/x-python",
   "name": "python",
   "nbconvert_exporter": "python",
   "pygments_lexer": "ipython3",
   "version": "3.7.3"
  }
 },
 "nbformat": 4,
 "nbformat_minor": 2
}
