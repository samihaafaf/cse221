{
 "cells": [
  {
   "cell_type": "code",
   "execution_count": null,
   "metadata": {},
   "outputs": [],
   "source": [
    "#task3\n",
    "given = open('input3.txt','r')\n",
    "received = open('output3.txt','w')\n",
    "chores = given.readline()\n",
    "hrs=[int(each) for each in given.readline().split()]\n",
    "hrs.sort()\n",
    "seq = given.readline()\n",
    "track = ''\n",
    "Jack_done = []\n",
    "ja,ji = 0,0\n",
    "c = 0\n",
    "for each in range(len(seq)):\n",
    "    if seq[each]=='J':\n",
    "        #print('hi jack')\n",
    "        ja += hrs[c]\n",
    "        track =  track + str(hrs[c])\n",
    "        Jack_done.append(hrs[c])\n",
    "        c+= 1\n",
    "    else:\n",
    "        #print('hi jill')\n",
    "        x = Jack_done.pop()\n",
    "        ji += x\n",
    "        track = track + str(x)\n",
    "\n",
    "received.write(track+'\\n')\n",
    "received.write('Jack will work for {} hours'.format(ja)+'\\n'+'Jill will work for {} hours'.format(ji))\n",
    "#print('track is',track)\n",
    "#print(hrs)\n",
    "#print(seq)\n",
    "    \n",
    "given.close()    \n",
    "received.close()"
   ]
  }
 ],
 "metadata": {
  "kernelspec": {
   "display_name": "Python 3",
   "language": "python",
   "name": "python3"
  },
  "language_info": {
   "codemirror_mode": {
    "name": "ipython",
    "version": 3
   },
   "file_extension": ".py",
   "mimetype": "text/x-python",
   "name": "python",
   "nbconvert_exporter": "python",
   "pygments_lexer": "ipython3",
   "version": "3.7.3"
  }
 },
 "nbformat": 4,
 "nbformat_minor": 2
}
